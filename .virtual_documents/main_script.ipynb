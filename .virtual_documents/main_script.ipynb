


# Dependencies and Setup
import matplotlib.pyplot as plt
import pandas as pd
import scipy.stats as st
from scipy.stats import sem
import numpy as np

# Study data files
mouse_metadata_path = "data/Mouse_metadata.csv"
study_results_path = "data/Study_results.csv"

# Read the mouse data and the study results
mouse_metadata = pd.read_csv(mouse_metadata_path)
study_results = pd.read_csv(study_results_path)

#print(f"Mouse file columns are: {mouse_metadata.columns}")
#print(f"Study results columns are: {study_results.columns}")
#print(mouse_metadata["Mouse ID"].value_counts())
#print(study_results["Mouse ID"].value_counts())


# Combine the data into a single DataFrame
main_data_df = pd.merge(mouse_metadata, study_results, how = 'inner', on = "Mouse ID")

# Display the data table for preview
main_data_df.head()


# Checking the number of mice.
main_data_df["Mouse ID"].nunique()


# Our data should be uniquely identified by Mouse ID and Timepoint
# Get the duplicate mice by ID number that shows up for Mouse ID and Timepoint. 
print(main_data_df[["Mouse ID", "Timepoint"]].value_counts())


#duplicate = main_data_df[["Mouse ID", "Timepoint"]].value_counts() > 1
#duplicate.head()


duplicate_rows = main_data_df[main_data_df.duplicated(["Mouse ID", "Timepoint"], keep = False)]


duplicate_rows


# Optional: Get all the data for the duplicate mouse ID. 
wrong_data = main_data_df[main_data_df["Mouse ID"] == "g989"]
print(wrong_data)


# Create a clean DataFrame by dropping the duplicate mouse by its ID.
cleaned_df = main_data_df[main_data_df["Mouse ID"] != "g989"]


cleaned_df


cleaned_df["Mouse ID"].nunique()





# Generate a summary statistics table of mean, median, variance, standard deviation, and SEM of the tumor volume for each regimen

# Use groupby and summary statistical methods to calculate the following properties of each drug regimen: 
# mean, median, variance, standard deviation, and SEM of the tumor volume. 
# Assemble the resulting series into a single summary DataFrame.


drug_regimen_group = cleaned_df.groupby(["Drug Regimen"])

mean_tumor = drug_regimen_group["Tumor Volume (mm3)"].mean()
mean_tumor

median_tumor = drug_regimen_group["Tumor Volume (mm3)"].median()
median_tumor

var_tumor = drug_regimen_group["Tumor Volume (mm3)"].var()
var_tumor

stdev_tumor = drug_regimen_group["Tumor Volume (mm3)"].std()
stdev_tumor

sem_tumor = drug_regimen_group["Tumor Volume (mm3)"].sem()
sem_tumor

tumor_summary_dataframe = pd.DataFrame({"Mean Tumor Volume": mean_tumor,
                                        "Median Tumor Volume": median_tumor,
                                        "Tumor Volume Variance": var_tumor,
                                        "Tumor Volume Std. Dev.": stdev_tumor,
                                        "Tumor Volume Std. Err.": sem_tumor})
tumor_summary_dataframe



# A more advanced method to generate a summary statistics table of mean, median, variance, standard deviation,
# and SEM of the tumor volume for each regimen (only one method is required in the solution)

# Using the aggregation method, produce the same summary statistics in a single line

aggregate = drug_regimen_group["Tumor Volume (mm3)"].aggregate([np.mean, np.median, np.var, np.std, sem])
aggregate





# Generate a bar plot showing the total number of rows (Mouse ID/Timepoints) for each drug regimen using Pandas.

drug_timepoint=cleaned_df.groupby(["Drug Regimen"]).count()["Timepoint"]
bar_df = pd.DataFrame(drug_timepoint)
bar_df = bar_df.sort_values("Timepoint", ascending = False)


bar_plot_pd = bar_df.plot(kind = "bar", legend = False, figsize = (6,5))
bar_plot_pd.set_xlabel("Drug Regimen")
bar_plot_pd.set_ylabel("# of Observed Mouse Timepoints")
#plt.savefig('bar_plot_pd.png')
plt.show()
#plt.tight_layout()


# Generate a bar plot showing the total number of rows (Mouse ID/Timepoints) for each drug regimen using pyplot.
#reset index so that drug regimen can be called as a column later

bar_df = bar_df.reset_index()

#Create the x and y axis
x_axis = np.arange(len(bar_df))
tick_locations = [value for value in x_axis]
plt.xticks(tick_locations, bar_df["Drug Regimen"], rotation = 90)
y_axis = bar_df['Timepoint']

#Plot the graph
bar_plot_mat = plt.bar(x_axis, y_axis, align = 'center')
plt.xlabel("Drug Regimen")
plt.ylabel("# of Observed Mouse Timepoints")

plt.show()



# Generate a pie plot showing the distribution of female versus male mice using Pandas
#Generate the data
sex_data = pd.DataFrame(cleaned_df['Sex'].value_counts())
total_mice = sex_data["count"].sum()
percent_male = sex_data.iloc[0,0]/total_mice * 100
percent_female = sex_data.iloc[1,0]/total_mice * 100

percent_list = [percent_male, percent_female]
percent_list

sex_data["Percent"] = percent_list
sex_data

pie_pd = sex_data.plot(kind = "pie", y = "Percent", autopct='%1.1f%%', legend = False)
pie_pd.set_ylabel("sex")
plt.show()

#sex_count = cleaned_df.groupby(['Sex']).count()["Mouse ID"]
#sex_count = sex_count.reset_index()
#type(sex_count)
#sex_count.plot(kind='pie', x = 'Mouse ID', y = 'Sex', autopct='%1.0f%%')
#cleaned_df.groupby(['Sex']).count().plot(kind='pie', x = Sy = 'Mouse ID', autopct='%1.0f%%') 


# Generate a pie plot showing the distribution of female versus male mice using pyplot
#Use data from above
sex_data
labels = ["Male", "Female"]

#Generate the plot
plt.pie(sex_data["Percent"], labels = labels, autopct='%1.1f%%')
plt.ylabel("Sex")
plt.show()





# Calculate the final tumor volume of each mouse across four of the treatment regimens:  
# Capomulin, Ramicane, Infubinol, and Ceftamin

# Start by getting the last (greatest) timepoint for each mouse
mouse_data = cleaned_df.set_index("Mouse ID")
mouse_data
mouse_data = mouse_data[["Timepoint", "Drug Regimen", "Tumor Volume (mm3)", "Sex", "Age_months", "Weight (g)", "Metastatic Sites"]]
mouse_data

mouse_max_time_df = pd.DataFrame(cleaned_df.groupby("Mouse ID").max()["Timepoint"])

# Merge this group df with the original DataFrame to get the tumor volume at the last timepoint
mouse_time_df2 = pd.merge(mouse_max_time_df, cleaned_df, how = 'inner', on = ["Timepoint", "Mouse ID"])

mouse_time_df2.shape


mouse_time_df2.head(50)


# Put treatments into a list for for loop (and later for plot labels)
treatments = ["Capomulin", "Ramicane", "Infubinol", "Ceftamin"]


# Create empty list to fill with tumor vol data (for plotting)
tumor_volume = []
final_tumor_vol = 0

# Calculate the IQR and quantitatively determine if there are any potential outliers. 
    # Locate the rows which contain mice on each drug and get the tumor volumes
for treatment in treatments:
    treatment_type = mouse_time_df2.loc[mouse_time_df2["Drug Regimen"] == treatment, :]
    tumor_vol_quantile = treatment_type["Tumor Volume (mm3)"].quantile([.25, .5,.75])
    lowerq = tumor_vol_quantile[0.25]
    upperq = tumor_vol_quantile[0.75]
    iqr = upperq - lowerq
    print(f"Treatment is {treatment} and its IQR is  {iqr}")
    
 
    # add subset 

    
    # Determine outliers using upper and lower bounds
    lower_bound = lowerq - (1.5*iqr)
    upper_bound = upperq + (1.5*iqr)
    print(f"Values below {lower_bound} could be outliers.")
    print(f"Values above {upper_bound} could be outliers.")


# Put treatments into a list for for loop (and later for plot labels)
treatments = ["Capomulin", "Ramicane", "Infubinol", "Ceftamin"]


# Create empty list to fill with tumor vol data (for plotting)
tumor_volume = []
final_tumor_vol = 0

# Calculate the IQR and quantitatively determine if there are any potential outliers. 
for treatment in treatments:
    treatment_type = mouse_time_df2.loc[mouse_time_df2["Drug Regimen"] == treatment, :]
    tumor_vol_quantile = treatment_type["Tumor Volume (mm3)"].quantile([.25, .5,.75])
    lowerq = tumor_vol_quantile[0.25]
    upperq = tumor_vol_quantile[0.75]
    iqr = upperq - lowerq
    print(f"Treatment is {treatment} and its IQR is  {iqr}")
    lower_bound = lowerq - (1.5*iqr)
    upper_bound = upperq + (1.5*iqr)
    print(f"Values below {lower_bound} could be outliers.")
    print(f"Values above {upper_bound} could be outliers.")



    # Locate the rows which contain mice on each drug and get the tumor volumes

    
    # add subset 

    
    # Determine outliers using upper and lower bounds


#Only for one drug without a loop
capomulin = mouse_time_df2.loc[mouse_time_df2["Drug Regimen"] == "Capomulin", :]
capomulin_tumor = capomulin["Tumor Volume (mm3)"].quantile([.25, .5,.75])
lowerq_capo = capomulin_tumor[0.25]
upperq_capo = capomulin_tumor[0.75]
iqr_capo = upperq_capo - lowerq_capo

iqr_capo



