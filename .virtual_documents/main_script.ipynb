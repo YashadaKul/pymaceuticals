


# Dependencies and Setup
import matplotlib.pyplot as plt
import pandas as pd
import scipy.stats as st
from scipy.stats import sem
import numpy as np

# Study data files
mouse_metadata_path = "data/Mouse_metadata.csv"
study_results_path = "data/Study_results.csv"

# Read the mouse data and the study results
mouse_metadata = pd.read_csv(mouse_metadata_path)
study_results = pd.read_csv(study_results_path)

#print(f"Mouse file columns are: {mouse_metadata.columns}")
#print(f"Study results columns are: {study_results.columns}")
#print(mouse_metadata["Mouse ID"].value_counts())
#print(study_results["Mouse ID"].value_counts())


# Combine the data into a single DataFrame
main_data_df = pd.merge(mouse_metadata, study_results, how = 'inner', on = "Mouse ID")

# Display the data table for preview
main_data_df.head()


# Checking the number of mice.
main_data_df["Mouse ID"].nunique()


# Our data should be uniquely identified by Mouse ID and Timepoint
# Get the duplicate mice by ID number that shows up for Mouse ID and Timepoint. 
print(main_data_df[["Mouse ID", "Timepoint"]].value_counts())


#duplicate = main_data_df[["Mouse ID", "Timepoint"]].value_counts() > 1
#duplicate.head()


duplicate_rows = main_data_df[main_data_df.duplicated(["Mouse ID", "Timepoint"], keep = False)]


duplicate_rows


# Optional: Get all the data for the duplicate mouse ID. 
wrong_data = main_data_df[main_data_df["Mouse ID"] == "g989"]
print(wrong_data)


# Create a clean DataFrame by dropping the duplicate mouse by its ID.
cleaned_df = main_data_df[main_data_df["Mouse ID"] != "g989"]


cleaned_df


cleaned_df["Mouse ID"].nunique()





# Generate a summary statistics table of mean, median, variance, standard deviation, and SEM of the tumor volume for each regimen

# Use groupby and summary statistical methods to calculate the following properties of each drug regimen: 
# mean, median, variance, standard deviation, and SEM of the tumor volume. 
# Assemble the resulting series into a single summary DataFrame.


drug_regimen_group = cleaned_df.groupby(["Drug Regimen"])

mean_tumor = drug_regimen_group["Tumor Volume (mm3)"].mean()
mean_tumor

median_tumor = drug_regimen_group["Tumor Volume (mm3)"].median()
median_tumor

var_tumor = drug_regimen_group["Tumor Volume (mm3)"].var()
var_tumor

stdev_tumor = drug_regimen_group["Tumor Volume (mm3)"].std()
stdev_tumor

sem_tumor = drug_regimen_group["Tumor Volume (mm3)"].sem()
sem_tumor

tumor_summary_dataframe = pd.DataFrame({"Mean Tumor Volume": mean_tumor,
                                        "Median Tumor Volume": median_tumor,
                                        "Tumor Volume Variance": var_tumor,
                                        "Tumor Volume Std. Dev.": stdev_tumor,
                                        "Tumor Volume Std. Err.": sem_tumor})
tumor_summary_dataframe



# A more advanced method to generate a summary statistics table of mean, median, variance, standard deviation,
# and SEM of the tumor volume for each regimen (only one method is required in the solution)

# Using the aggregation method, produce the same summary statistics in a single line

aggregate = drug_regimen_group["Tumor Volume (mm3)"].aggregate([np.mean, np.median, np.var, np.std, sem])
aggregate





# Generate a bar plot showing the total number of rows (Mouse ID/Timepoints) for each drug regimen using Pandas.

drug_timepoint=cleaned_df.groupby(["Drug Regimen"]).count()["Timepoint"]
bar_df = pd.DataFrame(drug_timepoint)
bar_df = bar_df.sort_values("Timepoint", ascending = False)


bar_plot_pd = bar_df.plot(kind = "bar", legend = False, figsize = (6,5))
bar_plot_pd.set_xlabel = ("Drug Regimen")
bar_plot_pd.set_ylabel = ("# of Observed Mouse Timepoints")
#plt.savefig('bar_plot_pd.png')
plt.show()
#plt.tight_layout()


# Generate a scatter plot of mouse weight vs. the average observed tumor volume for the entire Capomulin regimen
